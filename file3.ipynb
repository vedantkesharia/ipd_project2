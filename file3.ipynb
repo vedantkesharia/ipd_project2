{
 "cells": [
  {
   "cell_type": "code",
   "execution_count": 1,
   "metadata": {},
   "outputs": [
    {
     "name": "stdout",
     "output_type": "stream",
     "text": [
      "Please speak something...\n",
      "Recognizing...\n",
      "You said: this is a test\n"
     ]
    }
   ],
   "source": [
    "import speech_recognition as sr\n",
    "# import pyaudio\n",
    "# Initialize the recognizer\n",
    "recognizer = sr.Recognizer()\n",
    "\n",
    "# Capture audio from the microphone\n",
    "with sr.Microphone() as source:\n",
    "    print(\"Please speak something...\")\n",
    "    recognizer.adjust_for_ambient_noise(source)  # Adjust for ambient noise\n",
    "    audio = recognizer.listen(source)  # Listen for audio input\n",
    "\n",
    "# Use Google Web Speech API to recognize the speech\n",
    "try:\n",
    "    print(\"Recognizing...\")\n",
    "    text = recognizer.recognize_google(audio)\n",
    "    print(\"You said:\", text)\n",
    "except sr.UnknownValueError:\n",
    "    print(\"Sorry, I couldn't understand what you said.\")\n",
    "except sr.RequestError as e:\n",
    "    print(\"Sorry, there was an error connecting to the Google API. Make sure you have an active internet connection.\", e)\n",
    "\n"
   ]
  }
 ],
 "metadata": {
  "kernelspec": {
   "display_name": "Python 3",
   "language": "python",
   "name": "python3"
  },
  "language_info": {
   "codemirror_mode": {
    "name": "ipython",
    "version": 3
   },
   "file_extension": ".py",
   "mimetype": "text/x-python",
   "name": "python",
   "nbconvert_exporter": "python",
   "pygments_lexer": "ipython3",
   "version": "3.11.0"
  },
  "orig_nbformat": 4
 },
 "nbformat": 4,
 "nbformat_minor": 2
}
