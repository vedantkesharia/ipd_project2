{
 "cells": [
  {
   "cell_type": "code",
   "execution_count": 1,
   "metadata": {},
   "outputs": [
    {
     "name": "stderr",
     "output_type": "stream",
     "text": [
      "c:\\Users\\vedan\\AppData\\Local\\Programs\\Python\\Python311\\Lib\\site-packages\\tqdm\\auto.py:21: TqdmWarning: IProgress not found. Please update jupyter and ipywidgets. See https://ipywidgets.readthedocs.io/en/stable/user_install.html\n",
      "  from .autonotebook import tqdm as notebook_tqdm\n",
      "Some weights of Wav2Vec2ForCTC were not initialized from the model checkpoint at facebook/wav2vec2-base-960h and are newly initialized: ['wav2vec2.masked_spec_embed']\n",
      "You should probably TRAIN this model on a down-stream task to be able to use it for predictions and inference.\n"
     ]
    },
    {
     "ename": "TypeError",
     "evalue": "Audio.__init__() got an unexpected keyword argument 'sample_rate'",
     "output_type": "error",
     "traceback": [
      "\u001b[1;31m---------------------------------------------------------------------------\u001b[0m",
      "\u001b[1;31mTypeError\u001b[0m                                 Traceback (most recent call last)",
      "Cell \u001b[1;32mIn[1], line 16\u001b[0m\n\u001b[0;32m     10\u001b[0m     state \u001b[39m+\u001b[39m\u001b[39m=\u001b[39m text \u001b[39m+\u001b[39m \u001b[39m\"\u001b[39m\u001b[39m \u001b[39m\u001b[39m\"\u001b[39m\n\u001b[0;32m     11\u001b[0m     \u001b[39mreturn\u001b[39;00m text, state  \u001b[39m# Return text and updated state\u001b[39;00m\n\u001b[0;32m     13\u001b[0m gr\u001b[39m.\u001b[39mInterface(\n\u001b[0;32m     14\u001b[0m     fn\u001b[39m=\u001b[39mtranscribe, \n\u001b[0;32m     15\u001b[0m     inputs\u001b[39m=\u001b[39m[\n\u001b[1;32m---> 16\u001b[0m         gr\u001b[39m.\u001b[39;49minputs\u001b[39m.\u001b[39;49mAudio(source\u001b[39m=\u001b[39;49m\u001b[39m\"\u001b[39;49m\u001b[39mmicrophone\u001b[39;49m\u001b[39m\"\u001b[39;49m, \u001b[39mtype\u001b[39;49m\u001b[39m=\u001b[39;49m\u001b[39m\"\u001b[39;49m\u001b[39mfile\u001b[39;49m\u001b[39m\"\u001b[39;49m, sample_rate\u001b[39m=\u001b[39;49m\u001b[39m16000\u001b[39;49m),  \u001b[39m# Specify the sample rate\u001b[39;00m\n\u001b[0;32m     17\u001b[0m         gr\u001b[39m.\u001b[39minputs\u001b[39m.\u001b[39mTextbox(lines\u001b[39m=\u001b[39m\u001b[39m8\u001b[39m, placeholder\u001b[39m=\u001b[39m\u001b[39m\"\u001b[39m\u001b[39mTranscription history\u001b[39m\u001b[39m\"\u001b[39m, default\u001b[39m=\u001b[39mstate)\n\u001b[0;32m     18\u001b[0m     ],\n\u001b[0;32m     19\u001b[0m     outputs\u001b[39m=\u001b[39m[\n\u001b[0;32m     20\u001b[0m         gr\u001b[39m.\u001b[39moutputs\u001b[39m.\u001b[39mTextbox(label\u001b[39m=\u001b[39m\u001b[39m\"\u001b[39m\u001b[39mTranscription\u001b[39m\u001b[39m\"\u001b[39m),\n\u001b[0;32m     21\u001b[0m         gr\u001b[39m.\u001b[39moutputs\u001b[39m.\u001b[39mTextbox(label\u001b[39m=\u001b[39m\u001b[39m\"\u001b[39m\u001b[39mUpdated State\u001b[39m\u001b[39m\"\u001b[39m)\n\u001b[0;32m     22\u001b[0m     ],\n\u001b[0;32m     23\u001b[0m     live\u001b[39m=\u001b[39m\u001b[39mTrue\u001b[39;00m)\u001b[39m.\u001b[39mlaunch()\n",
      "\u001b[1;31mTypeError\u001b[0m: Audio.__init__() got an unexpected keyword argument 'sample_rate'"
     ]
    }
   ],
   "source": [
    "from transformers import pipeline\n",
    "import gradio as gr\n",
    "\n",
    "p = pipeline(\"automatic-speech-recognition\", model=\"facebook/wav2vec2-base-960h\")\n",
    "\n",
    "state = \"\"  # Initialize state outside the function\n",
    "\n",
    "def transcribe(audio, state=state):\n",
    "    text = p(audio)[\"text\"]\n",
    "    state += text + \" \"\n",
    "    return text, state  # Return text and updated state\n",
    "\n",
    "gr.Interface(\n",
    "    fn=transcribe, \n",
    "    inputs=[\n",
    "        gr.inputs.Audio(source=\"microphone\", type=\"file\", sample_rate=16000),  # Specify the sample rate\n",
    "        gr.inputs.Textbox(lines=8, placeholder=\"Transcription history\", default=state)\n",
    "    ],\n",
    "    outputs=[\n",
    "        gr.outputs.Textbox(label=\"Transcription\"),\n",
    "        gr.outputs.Textbox(label=\"Updated State\")\n",
    "    ],\n",
    "    live=True).launch()\n"
   ]
  }
 ],
 "metadata": {
  "kernelspec": {
   "display_name": "Python 3",
   "language": "python",
   "name": "python3"
  },
  "language_info": {
   "codemirror_mode": {
    "name": "ipython",
    "version": 3
   },
   "file_extension": ".py",
   "mimetype": "text/x-python",
   "name": "python",
   "nbconvert_exporter": "python",
   "pygments_lexer": "ipython3",
   "version": "3.11.0"
  },
  "orig_nbformat": 4
 },
 "nbformat": 4,
 "nbformat_minor": 2
}
